{
 "cells": [
  {
   "cell_type": "code",
   "execution_count": null,
   "metadata": {},
   "outputs": [
    {
     "name": "stdout",
     "output_type": "stream",
     "text": [
      "     income  spending_habit  Predicted Default Risk\n",
      "0  0.748458        0.054773                       0\n",
      "1  0.902531        0.361185                       0\n",
      "2  0.714147        0.872160                       1\n",
      "3  0.587830        0.000000                       0\n"
     ]
    }
   ],
   "source": [
    "import pickle\n",
    "import pandas as pd\n",
    "from preprocess import load_and_clean_data\n",
    "\n",
    "with open(\"../models/credit_model.pkl\", \"rb\") as f:\n",
    "    model = pickle.load(f)\n",
    "\n",
    "df = load_and_clean_data(\"../data/test.csv\")\n",
    "X_new = df.drop(columns=['loan_default'])\n",
    "\n",
    "predictions = model.predict(X_new)\n",
    "df['Predicted Default Risk'] = predictions\n",
    "\n",
    "print(df[['income', 'spending_habit', 'Predicted Default Risk']].head(4))\n"
   ]
  }
 ],
 "metadata": {
  "kernelspec": {
   "display_name": "myenv2",
   "language": "python",
   "name": "python3"
  },
  "language_info": {
   "codemirror_mode": {
    "name": "ipython",
    "version": 3
   },
   "file_extension": ".py",
   "mimetype": "text/x-python",
   "name": "python",
   "nbconvert_exporter": "python",
   "pygments_lexer": "ipython3",
   "version": "3.9.21"
  }
 },
 "nbformat": 4,
 "nbformat_minor": 2
}
